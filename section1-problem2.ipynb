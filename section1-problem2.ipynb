{
 "cells": [
  {
   "cell_type": "code",
   "execution_count": 23,
   "metadata": {},
   "outputs": [],
   "source": [
    "import pyomo.environ as pyo\n",
    "from pyomo.opt import SolverFactory"
   ]
  },
  {
   "cell_type": "code",
   "execution_count": 24,
   "metadata": {},
   "outputs": [
    {
     "name": "stdout",
     "output_type": "stream",
     "text": [
      "\n",
      "Problem: \n",
      "- Name: unknown\n",
      "  Lower bound: 280.0\n",
      "  Upper bound: 280.0\n",
      "  Number of objectives: 1\n",
      "  Number of constraints: 12\n",
      "  Number of variables: 3\n",
      "  Number of nonzeros: 30\n",
      "  Sense: maximize\n",
      "Solver: \n",
      "- Status: ok\n",
      "  Termination condition: optimal\n",
      "  Statistics: \n",
      "    Branch and bound: \n",
      "      Number of bounded subproblems: 0\n",
      "      Number of created subproblems: 0\n",
      "  Error rc: 0\n",
      "  Time: 0.006544828414916992\n",
      "Solution: \n",
      "- number of solutions: 0\n",
      "  number of solutions displayed: 0\n",
      "\n",
      "Objective Func =  280.0\n",
      "Number of  Desk produced =  2.0\n",
      "Number of  Table produced =  0.0\n",
      "Number of  Chair produced =  8.0\n"
     ]
    }
   ],
   "source": [
    "model = pyo.ConcreteModel()\n",
    "\n",
    "# Sets\n",
    "model.i = pyo.Set(initialize = ['Desk', 'Table', 'Chair'])\n",
    "\n",
    "# Parameters\n",
    "model.L = pyo.Param(model.i, initialize = {'Desk':8,'Table':6,'Chair':1})\n",
    "L = model.L\n",
    "\n",
    "model.F = pyo.Param(model.i, initialize = {'Desk':4,'Table':2,'Chair':1.5})\n",
    "F = model.F\n",
    "\n",
    "model.C = pyo.Param(model.i, initialize = {'Desk':2,'Table':1.5,'Chair':0.5})\n",
    "C = model.C\n",
    "\n",
    "model.P = pyo.Param(model.i, initialize = {'Desk':60,'Table':30,'Chair':20})\n",
    "P = model.P\n",
    "\n",
    "\n",
    "# Decision Variable\n",
    "model.x = pyo.Var(model.i, within = pyo.NonNegativeReals)\n",
    "\n",
    "x = model.x\n",
    "\n",
    "# Objective Function\n",
    "def Objective_rule(model):\n",
    "    return sum(P[i]*x[i] for i in model.i)\n",
    "\n",
    "model.Obj = pyo.Objective(rule = Objective_rule, sense = pyo.maximize)\n",
    "\n",
    "# Constraints\n",
    "def Constraint1(model,i):\n",
    "    return sum(L[i]*x[i] for i in model.i) <= 48\n",
    "model.Const1 = pyo.Constraint(model.i, rule = Constraint1)\n",
    "\n",
    "def Constraint2(model,i):\n",
    "    return sum(F[i]*x[i] for i in model.i) <= 20\n",
    "model.Const2 = pyo.Constraint(model.i, rule = Constraint2)\n",
    "\n",
    "def Constraint3(model,i):\n",
    "    return sum(C[i]*x[i] for i in model.i) <= 8\n",
    "model.Const3 = pyo.Constraint(model.i, rule = Constraint3)\n",
    "\n",
    "def Constraint4(model, i):\n",
    "    return x['Table'] <= 5\n",
    "model.Const4 = pyo.Constraint(model.i, rule = Constraint4)\n",
    "\n",
    "\n",
    "# Solve\n",
    "solver = SolverFactory('glpk')\n",
    "\n",
    "results = solver.solve(model)\n",
    "\n",
    "print(results)\n",
    "print('Objective Func = ', model.Obj())\n",
    "for i in model.i:\n",
    "    print('Number of ',i, 'produced = ', x[i]())\n",
    "\n",
    "\n"
   ]
  }
 ],
 "metadata": {
  "kernelspec": {
   "display_name": "operations",
   "language": "python",
   "name": "python3"
  },
  "language_info": {
   "codemirror_mode": {
    "name": "ipython",
    "version": 3
   },
   "file_extension": ".py",
   "mimetype": "text/x-python",
   "name": "python",
   "nbconvert_exporter": "python",
   "pygments_lexer": "ipython3",
   "version": "3.11.5"
  }
 },
 "nbformat": 4,
 "nbformat_minor": 2
}
